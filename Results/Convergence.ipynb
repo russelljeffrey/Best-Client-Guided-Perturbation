{
 "cells": [
  {
   "cell_type": "code",
   "execution_count": 2,
   "id": "1a8436b0-0738-4e7a-ac7d-3c447b0155e6",
   "metadata": {},
   "outputs": [
    {
     "name": "stdout",
     "output_type": "stream",
     "text": [
      "Figures generated.\n"
     ]
    }
   ],
   "source": [
    "import matplotlib.pyplot as plt\n",
    "import numpy as np\n",
    "import pandas as pd\n",
    "import os\n",
    "\n",
    "base_dir = \".\"  # Change this to your root directory path if needed\n",
    "normal_dir = os.path.join(base_dir, \"Normal\")\n",
    "attack_dir = os.path.join(base_dir, \"Attack\")\n",
    "\n",
    "datasets = [\"mnist\", \"fashion_mnist\", \"femnist\"]\n",
    "k_values = [\"k3\", \"k5\"]\n",
    "distribs = [\"iid\", \"noniid\"]\n",
    "alphas = [\"alpha1\", \"alpha3\", \"alpha5\"]  # Maps to α = 0.1, 0.3, 0.5\n",
    "malicious = [\"client1\", \"client2\"]\n",
    "scenarios = [\"Scenario 1\", \"Scenario 2\"]\n",
    "\n",
    "def read_accuracy(file_path, column_name, column_idx):\n",
    "    try:\n",
    "        df = pd.read_csv(file_path)\n",
    "        return df[column_name].values\n",
    "    except FileNotFoundError:\n",
    "        print(f\"Warning: File not found - {file_path}\")\n",
    "        return np.zeros(10)\n",
    "    except KeyError:\n",
    "        print(f\"Warning: '{column_name}' column not found in {file_path}\")\n",
    "        return np.zeros(10)\n",
    "\n",
    "for dataset in datasets:\n",
    "    plt.figure(figsize=(14, 8))\n",
    "    for k in k_values:\n",
    "        for dist in distribs:\n",
    "            for i, alpha in enumerate(alphas):\n",
    "                file_name = f\"{dataset}-{dist}-{k}-{alpha}.csv\"\n",
    "                file_path = os.path.join(normal_dir, dataset, k, file_name)\n",
    "                accuracies = read_accuracy(file_path, \"Round_Accuracy\", 0)\n",
    "                alpha_val = f\"{0.1 * (i + 1):.1f}\"\n",
    "                plt.plot(range(1, 11), accuracies, label=f\"{k} {dist} α={alpha_val}\", \n",
    "                         linestyle=\"-\" if dist == \"iid\" else \"--\", linewidth=2)\n",
    "    plt.title(f\"{dataset.capitalize()} (Normal)\", fontsize=30)\n",
    "    plt.xlabel(\"Round\", fontsize=25)\n",
    "    plt.ylabel(\"Accuracy (%)\", fontsize=25)\n",
    "    plt.xticks(fontsize=20)\n",
    "    plt.yticks(fontsize=20)\n",
    "    plt.legend(bbox_to_anchor=(1.05, 1), loc=\"upper left\", fontsize=20)\n",
    "    plt.grid(True)\n",
    "    plt.tight_layout()\n",
    "    plt.savefig(f\"{dataset}_normal_convergence.png\", dpi=300, bbox_inches=\"tight\")\n",
    "    plt.close()\n",
    "\n",
    "    plt.figure(figsize=(14, 8))\n",
    "    for k in k_values:\n",
    "        for dist in distribs:\n",
    "            for scen_idx, atk in enumerate([\"backdoor\", \"feature\"]):\n",
    "                for i, mal in enumerate(malicious):\n",
    "                    file_name = f\"{dataset}-{dist}-{mal}-{atk}.csv\"\n",
    "                    file_path = os.path.join(attack_dir, dataset, k, file_name)\n",
    "                    accuracies = read_accuracy(file_path, \"Round_Test_Accuracy\", 1)\n",
    "                    plt.plot(range(1, 11), accuracies, label=f\"{k} {dist} {scenarios[scen_idx]} {10*(i+1)}%\", \n",
    "                             linestyle=\"-\" if dist == \"iid\" else \"--\", linewidth=2)\n",
    "    plt.title(f\"{dataset.capitalize()} (Attack)\", fontsize=30)\n",
    "    plt.xlabel(\"Round\", fontsize=25)\n",
    "    plt.ylabel(\"Accuracy (%)\", fontsize=25)\n",
    "    plt.xticks(fontsize=20)\n",
    "    plt.yticks(fontsize=20)\n",
    "    plt.legend(bbox_to_anchor=(1.05, 1), loc=\"upper left\", fontsize=20)\n",
    "    plt.grid(True)\n",
    "    plt.tight_layout()\n",
    "    plt.savefig(f\"{dataset}_attack_convergence.png\", dpi=300, bbox_inches=\"tight\")\n",
    "    plt.close()\n",
    "\n",
    "print(\"Figures generated.\")"
   ]
  },
  {
   "cell_type": "code",
   "execution_count": null,
   "id": "806a0ecc-730a-47bd-a5c9-a98c0f9efa07",
   "metadata": {},
   "outputs": [],
   "source": []
  }
 ],
 "metadata": {
  "kernelspec": {
   "display_name": "Python 3 (ipykernel)",
   "language": "python",
   "name": "python3"
  },
  "language_info": {
   "codemirror_mode": {
    "name": "ipython",
    "version": 3
   },
   "file_extension": ".py",
   "mimetype": "text/x-python",
   "name": "python",
   "nbconvert_exporter": "python",
   "pygments_lexer": "ipython3",
   "version": "3.13.1"
  }
 },
 "nbformat": 4,
 "nbformat_minor": 5
}
